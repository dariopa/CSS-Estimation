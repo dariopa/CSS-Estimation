{
 "cells": [
  {
   "cell_type": "code",
   "execution_count": 236,
   "metadata": {},
   "outputs": [
    {
     "name": "stdout",
     "output_type": "stream",
     "text": [
      "(240, 1, 1)\n"
     ]
    }
   ],
   "source": [
    "import os\n",
    "import numpy as np\n",
    "from sklearn.utils import shuffle\n",
    "from PIL import Image\n",
    "\n",
    "\n",
    "call_folder = '/home/dario/Documents/SemThes_Local/Data_32_32'\n",
    "\n",
    "batch_size = 39\n",
    "\n",
    "X_train = np.load(os.path.join(call_folder, 'X_train.npy'))\n",
    "y_train = np.load(os.path.join(call_folder, 'y_binned_train.npy'))[:, 0:1, 0:1] # NUMERISCHER WERT - ÄNDERN!\n",
    "print(y_train.shape)\n",
    "\n",
    "row, col, _ = np.array(Image.open(str(X_train[0]))).shape\n",
    "\n",
    "for i in range(0, int(np.floor(len(X_train)/batch_size)) + 1):\n",
    "    if i == (int(np.floor(len(X_train)/batch_size))):\n",
    "        batch_size = len(X_train) - (i * batch_size)\n",
    "\n",
    "    X = np.full((batch_size, row, col, 1), 0, dtype = np.uint8)\n",
    "    \n",
    "    for k in range(0, batch_size):\n",
    "        img = np.array(Image.open(str(X_train[k + i * batch_size])))\n",
    "        X[k, :, :, :] = img[:,:,0:1] # NUMERISCHER WERT - ÄNDERN!\n",
    "    y = y_train[i * batch_size:(i + 1) * batch_size]\n",
    "        "
   ]
  },
  {
   "cell_type": "code",
   "execution_count": 2,
   "metadata": {},
   "outputs": [],
   "source": [
    "import os\n",
    "import numpy as np\n",
    "from sklearn.utils import shuffle\n",
    "from PIL import Image\n",
    "\n",
    "def batch_generator(X, y, batch_size):\n",
    "\n",
    "    row, col, _ = np.array(Image.open(str(X[0]))).shape\n",
    "\n",
    "    for i in range(0, int(np.floor(len(X) / batch_size)) + 1):\n",
    "        if i == (int(np.floor(len(X) / batch_size))):\n",
    "            batch_size = len(X) - (i * batch_size)\n",
    "\n",
    "        X_send = np.full((batch_size, row, col, 1), 0, dtype = np.uint8)\n",
    "        \n",
    "        for k in range(0, batch_size):\n",
    "            img = np.array(Image.open(str(X[k + i * batch_size])))\n",
    "            X_send[k, :, :, :] = img[:,:,0:1]       # NUMERISCHER WERT - ÄNDERN!\n",
    "        y_send = y[i * batch_size:(i + 1) * batch_size]\n",
    "\n",
    "        (X_send, y_send) = shuffle(X_send, y_send)\n",
    "\n",
    "        yield(X_send, y_send)\n",
    "        \n",
    "def batch_generator_V1(X, y, batch_size):\n",
    "\n",
    "    row, col = X[0].shape\n",
    "\n",
    "    for i in range(0, int(np.floor(len(X) / batch_size)) + 1):\n",
    "        if i == (int(np.floor(len(X) / batch_size))):\n",
    "            batch_size = len(X) - (i * batch_size)\n",
    "\n",
    "        X_send = np.full((batch_size, row, col, 1), 0, dtype = np.uint8)\n",
    "        \n",
    "        for k in range(0, batch_size):\n",
    "            img = np.array(Image.open(str(X[k + i * batch_size])))\n",
    "            X_send[k, :, :, :] = img[:,:,0:1]       # NUMERISCHER WERT - ÄNDERN!\n",
    "        y_send = y[i * batch_size:(i + 1) * batch_size]\n",
    "\n",
    "        (X_send, y_send) = shuffle(X_send, y_send)\n",
    "\n",
    "        yield(X_send, y_send)\n",
    "\n",
    "def batch_generator_V2(X, y, batch_size):\n",
    "       \n",
    "    for i in range(0, X.shape[0], batch_size):\n",
    "        yield (X[i:i+batch_size, :], y[i:i+batch_size])\n",
    "        \n"
   ]
  },
  {
   "cell_type": "code",
   "execution_count": 16,
   "metadata": {},
   "outputs": [
    {
     "ename": "FileNotFoundError",
     "evalue": "[Errno 2] No such file or directory: '[0.80876375 0.09838604]'",
     "output_type": "error",
     "traceback": [
      "\u001b[0;31m---------------------------------------------------------------------------\u001b[0m",
      "\u001b[0;31mFileNotFoundError\u001b[0m                         Traceback (most recent call last)",
      "\u001b[0;32m<ipython-input-16-4b5293e3462c>\u001b[0m in \u001b[0;36m<module>\u001b[0;34m()\u001b[0m\n\u001b[1;32m      6\u001b[0m \u001b[0;34m\u001b[0m\u001b[0m\n\u001b[1;32m      7\u001b[0m \u001b[0mbatch_gen\u001b[0m \u001b[0;34m=\u001b[0m \u001b[0mbatch_generator\u001b[0m\u001b[0;34m(\u001b[0m\u001b[0mX_train\u001b[0m\u001b[0;34m,\u001b[0m \u001b[0my_train\u001b[0m\u001b[0;34m,\u001b[0m \u001b[0mbatch_size\u001b[0m\u001b[0;34m)\u001b[0m\u001b[0;34m\u001b[0m\u001b[0m\n\u001b[0;32m----> 8\u001b[0;31m \u001b[0;32mfor\u001b[0m \u001b[0mi\u001b[0m\u001b[0;34m,\u001b[0m \u001b[0;34m(\u001b[0m\u001b[0mbatch_x\u001b[0m\u001b[0;34m,\u001b[0m \u001b[0mbatch_y\u001b[0m\u001b[0;34m)\u001b[0m \u001b[0;32min\u001b[0m \u001b[0menumerate\u001b[0m\u001b[0;34m(\u001b[0m\u001b[0mbatch_gen\u001b[0m\u001b[0;34m)\u001b[0m\u001b[0;34m:\u001b[0m\u001b[0;34m\u001b[0m\u001b[0m\n\u001b[0m\u001b[1;32m      9\u001b[0m     \u001b[0mprint\u001b[0m\u001b[0;34m(\u001b[0m\u001b[0mbatch_x\u001b[0m\u001b[0;34m,\u001b[0m \u001b[0mbatch_y\u001b[0m\u001b[0;34m)\u001b[0m\u001b[0;34m\u001b[0m\u001b[0m\n",
      "\u001b[0;32m<ipython-input-2-ce40f678933a>\u001b[0m in \u001b[0;36mbatch_generator\u001b[0;34m(X, y, batch_size)\u001b[0m\n\u001b[1;32m      6\u001b[0m \u001b[0;32mdef\u001b[0m \u001b[0mbatch_generator\u001b[0m\u001b[0;34m(\u001b[0m\u001b[0mX\u001b[0m\u001b[0;34m,\u001b[0m \u001b[0my\u001b[0m\u001b[0;34m,\u001b[0m \u001b[0mbatch_size\u001b[0m\u001b[0;34m)\u001b[0m\u001b[0;34m:\u001b[0m\u001b[0;34m\u001b[0m\u001b[0m\n\u001b[1;32m      7\u001b[0m \u001b[0;34m\u001b[0m\u001b[0m\n\u001b[0;32m----> 8\u001b[0;31m     \u001b[0mrow\u001b[0m\u001b[0;34m,\u001b[0m \u001b[0mcol\u001b[0m\u001b[0;34m,\u001b[0m \u001b[0m_\u001b[0m \u001b[0;34m=\u001b[0m \u001b[0mnp\u001b[0m\u001b[0;34m.\u001b[0m\u001b[0marray\u001b[0m\u001b[0;34m(\u001b[0m\u001b[0mImage\u001b[0m\u001b[0;34m.\u001b[0m\u001b[0mopen\u001b[0m\u001b[0;34m(\u001b[0m\u001b[0mstr\u001b[0m\u001b[0;34m(\u001b[0m\u001b[0mX\u001b[0m\u001b[0;34m[\u001b[0m\u001b[0;36m0\u001b[0m\u001b[0;34m]\u001b[0m\u001b[0;34m)\u001b[0m\u001b[0;34m)\u001b[0m\u001b[0;34m)\u001b[0m\u001b[0;34m.\u001b[0m\u001b[0mshape\u001b[0m\u001b[0;34m\u001b[0m\u001b[0m\n\u001b[0m\u001b[1;32m      9\u001b[0m \u001b[0;34m\u001b[0m\u001b[0m\n\u001b[1;32m     10\u001b[0m     \u001b[0;32mfor\u001b[0m \u001b[0mi\u001b[0m \u001b[0;32min\u001b[0m \u001b[0mrange\u001b[0m\u001b[0;34m(\u001b[0m\u001b[0;36m0\u001b[0m\u001b[0;34m,\u001b[0m \u001b[0mint\u001b[0m\u001b[0;34m(\u001b[0m\u001b[0mnp\u001b[0m\u001b[0;34m.\u001b[0m\u001b[0mfloor\u001b[0m\u001b[0;34m(\u001b[0m\u001b[0mlen\u001b[0m\u001b[0;34m(\u001b[0m\u001b[0mX\u001b[0m\u001b[0;34m)\u001b[0m \u001b[0;34m/\u001b[0m \u001b[0mbatch_size\u001b[0m\u001b[0;34m)\u001b[0m\u001b[0;34m)\u001b[0m \u001b[0;34m+\u001b[0m \u001b[0;36m1\u001b[0m\u001b[0;34m)\u001b[0m\u001b[0;34m:\u001b[0m\u001b[0;34m\u001b[0m\u001b[0m\n",
      "\u001b[0;32m~/miniconda3/lib/python3.6/site-packages/PIL/Image.py\u001b[0m in \u001b[0;36mopen\u001b[0;34m(fp, mode)\u001b[0m\n\u001b[1;32m   2541\u001b[0m \u001b[0;34m\u001b[0m\u001b[0m\n\u001b[1;32m   2542\u001b[0m     \u001b[0;32mif\u001b[0m \u001b[0mfilename\u001b[0m\u001b[0;34m:\u001b[0m\u001b[0;34m\u001b[0m\u001b[0m\n\u001b[0;32m-> 2543\u001b[0;31m         \u001b[0mfp\u001b[0m \u001b[0;34m=\u001b[0m \u001b[0mbuiltins\u001b[0m\u001b[0;34m.\u001b[0m\u001b[0mopen\u001b[0m\u001b[0;34m(\u001b[0m\u001b[0mfilename\u001b[0m\u001b[0;34m,\u001b[0m \u001b[0;34m\"rb\"\u001b[0m\u001b[0;34m)\u001b[0m\u001b[0;34m\u001b[0m\u001b[0m\n\u001b[0m\u001b[1;32m   2544\u001b[0m         \u001b[0mexclusive_fp\u001b[0m \u001b[0;34m=\u001b[0m \u001b[0;32mTrue\u001b[0m\u001b[0;34m\u001b[0m\u001b[0m\n\u001b[1;32m   2545\u001b[0m \u001b[0;34m\u001b[0m\u001b[0m\n",
      "\u001b[0;31mFileNotFoundError\u001b[0m: [Errno 2] No such file or directory: '[0.80876375 0.09838604]'"
     ]
    }
   ],
   "source": [
    "batch_size = 2\n",
    "\n",
    "call_folder = '/home/dario/Documents/SemThes_Local/Data_32_32'\n",
    "X_train = np.load(os.path.join(call_folder, 'bla.npy'))\n",
    "y_train = np.load(os.path.join(call_folder, 'blabla.npy'))\n",
    "\n",
    "batch_gen = batch_generator(X_train, y_train, batch_size)\n",
    "for i, (batch_x, batch_y) in enumerate(batch_gen):\n",
    "    print(batch_x, batch_y)"
   ]
  },
  {
   "cell_type": "code",
   "execution_count": 18,
   "metadata": {},
   "outputs": [
    {
     "name": "stdout",
     "output_type": "stream",
     "text": [
      "[[0.47298192 0.66267732]\n",
      " [0.02536783 0.83580527]]\n",
      "[[0.08369799]\n",
      " [0.18703984]]\n",
      "[[0.21840918 0.78434386]\n",
      " [0.14068412 0.88391535]]\n",
      "[[0.29276732]\n",
      " [0.2492911 ]]\n",
      "[[0.68676126 0.79176233]\n",
      " [0.71634847 0.47837818]]\n",
      "[[0.380735  ]\n",
      " [0.83706598]]\n",
      "[[0.49154645 0.65532662]\n",
      " [0.14947773 0.86857986]]\n",
      "[[0.12732461]\n",
      " [0.71822903]]\n",
      "[[0.93359152 0.34853057]\n",
      " [0.97158186 0.59572668]]\n",
      "[[0.10938192]\n",
      " [0.69347608]]\n",
      "\n",
      "[[0.47298192 0.66267732]\n",
      " [0.02536783 0.83580527]]\n",
      "\n",
      "[[0.08369799]\n",
      " [0.18703984]]\n",
      "\n",
      "\n",
      "[[0.21840918 0.78434386]\n",
      " [0.14068412 0.88391535]]\n",
      "\n",
      "[[0.29276732]\n",
      " [0.2492911 ]]\n",
      "\n",
      "\n",
      "[[0.68676126 0.79176233]\n",
      " [0.71634847 0.47837818]]\n",
      "\n",
      "[[0.380735  ]\n",
      " [0.83706598]]\n",
      "\n",
      "\n",
      "[[0.49154645 0.65532662]\n",
      " [0.14947773 0.86857986]]\n",
      "\n",
      "[[0.12732461]\n",
      " [0.71822903]]\n",
      "\n",
      "\n",
      "[[0.93359152 0.34853057]\n",
      " [0.97158186 0.59572668]]\n",
      "\n",
      "[[0.10938192]\n",
      " [0.69347608]]\n",
      "\n",
      "\n"
     ]
    }
   ],
   "source": [
    "batch_size = 2\n",
    "\n",
    "X = np.random.rand(10,2)\n",
    "y = np.random.rand(10,1)\n",
    "for i in range(0, X.shape[0], batch_size):\n",
    "    print(X[i:i+batch_size, :])\n",
    "    print(y[i:i+batch_size])\n",
    "        \n",
    "print()\n",
    "batch_gen = batch_generator_V2(X, y, batch_size)\n",
    "for i, (batch_x, batch_y) in enumerate(batch_gen):\n",
    "    print(batch_x)\n",
    "    print()\n",
    "    print(batch_y)\n",
    "    print()\n",
    "    print()"
   ]
  },
  {
   "cell_type": "code",
   "execution_count": 14,
   "metadata": {},
   "outputs": [],
   "source": [
    "X = np.random.rand(10,2)\n",
    "y = np.random.rand(10,1)\n",
    "\n",
    "np.save('bla.npy', X)\n",
    "np.save('blabla.npy', y)\n"
   ]
  },
  {
   "cell_type": "code",
   "execution_count": null,
   "metadata": {},
   "outputs": [],
   "source": []
  }
 ],
 "metadata": {
  "kernelspec": {
   "display_name": "Python 3",
   "language": "python",
   "name": "python3"
  },
  "language_info": {
   "codemirror_mode": {
    "name": "ipython",
    "version": 3
   },
   "file_extension": ".py",
   "mimetype": "text/x-python",
   "name": "python",
   "nbconvert_exporter": "python",
   "pygments_lexer": "ipython3",
   "version": "3.6.3"
  }
 },
 "nbformat": 4,
 "nbformat_minor": 2
}
