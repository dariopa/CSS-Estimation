{
 "cells": [
  {
   "cell_type": "code",
   "execution_count": 1,
   "metadata": {},
   "outputs": [],
   "source": [
    "import numpy as np\n",
    "from PIL import Image\n",
    "from matplotlib.pyplot import imshow\n",
    "import matplotlib.pyplot as plt"
   ]
  },
  {
   "cell_type": "code",
   "execution_count": 2,
   "metadata": {},
   "outputs": [
    {
     "data": {
      "image/png": "[encoded data removed]",
      "text/plain": [
       "<matplotlib.figure.Figure at 0x7f47ce5da0f0>"
      ]
     },
     "metadata": {},
     "output_type": "display_data"
    }
   ],
   "source": [
    "nr_images = 1\n",
    "X = np.full((nr_images,32,32,3),0)\n",
    "for i in range(1,nr_images+1):\n",
    "    img = Image.open('/home/dario/Documents/SemThes_Local/Data_32_32/Images/' + str(i) + '.jpg')\n",
    "    imshow(img)\n",
    "    plt.show()\n",
    "    img = np.asarray(img)"
   ]
  },
  {
   "cell_type": "code",
   "execution_count": 21,
   "metadata": {},
   "outputs": [
    {
     "name": "stdout",
     "output_type": "stream",
     "text": [
      "[[106  86 168 ... 149 100  68]\n",
      " [254 171 119 ...  72 137 156]\n",
      " [142 214 190 ...  43 129 166]\n",
      " ...\n",
      " [ 91  63  72 ... 153  81  97]\n",
      " [ 75  70  74 ... 104  96  71]\n",
      " [ 71  86  59 ... 100  76  96]]\n"
     ]
    }
   ],
   "source": [
    "print(img[:, :, 0])"
   ]
  },
  {
   "cell_type": "code",
   "execution_count": 35,
   "metadata": {},
   "outputs": [],
   "source": [
    "def standardize(X_data):\n",
    "    X_new = (X_data - np.mean(X_data)) / np.std(X_data)\n",
    "    print(X_new[:, :, 0:1].shape)\n",
    "    return X_new"
   ]
  },
  {
   "cell_type": "code",
   "execution_count": 36,
   "metadata": {},
   "outputs": [
    {
     "name": "stdout",
     "output_type": "stream",
     "text": [
      "(32, 32, 1)\n",
      "(32, 32, 1)\n",
      "[[[ 0.11399392]\n",
      "  [-0.40388439]\n",
      "  [ 1.71941666]\n",
      "  ...\n",
      "  [ 1.22743227]\n",
      "  [-0.04136958]\n",
      "  [-0.86997486]]\n",
      "\n",
      " [[ 3.94629337]\n",
      "  [ 1.79709841]\n",
      "  [ 0.45061481]\n",
      "  ...\n",
      "  [-0.7663992 ]\n",
      "  [ 0.91670529]\n",
      "  [ 1.40868968]]\n",
      "\n",
      " [[ 1.04617486]\n",
      "  [ 2.91053676]\n",
      "  [ 2.28908279]\n",
      "  ...\n",
      "  [-1.51732274]\n",
      "  [ 0.70955397]\n",
      "  [ 1.66762883]]\n",
      "\n",
      " ...\n",
      "\n",
      " [[-0.27441481]\n",
      "  [-0.99944444]\n",
      "  [-0.7663992 ]\n",
      "  ...\n",
      "  [ 1.33100793]\n",
      "  [-0.53335396]\n",
      "  [-0.11905132]]\n",
      "\n",
      " [[-0.68871746]\n",
      "  [-0.81818703]\n",
      "  [-0.71461137]\n",
      "  ...\n",
      "  [ 0.06220609]\n",
      "  [-0.14494524]\n",
      "  [-0.79229312]]\n",
      "\n",
      " [[-0.79229312]\n",
      "  [-0.40388439]\n",
      "  [-1.1030201 ]\n",
      "  ...\n",
      "  [-0.04136958]\n",
      "  [-0.66282354]\n",
      "  [-0.14494524]]]\n"
     ]
    }
   ],
   "source": [
    "X = standardize(img[:, :, 0:1])\n",
    "print(X.shape)\n",
    "\n",
    "X_full = np.full((20, 32, 32, 1), 0.)\n",
    "X_full[0, :, :, :] = X\n",
    "print(X_full[0])"
   ]
  },
  {
   "cell_type": "code",
   "execution_count": 116,
   "metadata": {},
   "outputs": [
    {
     "data": {
      "image/png": "[encoded data removed]",
      "text/plain": [
       "<matplotlib.figure.Figure at 0x7f54276379e8>"
      ]
     },
     "metadata": {},
     "output_type": "display_data"
    },
    {
     "name": "stdout",
     "output_type": "stream",
     "text": [
      "[[0 0 2 ... 1 0 0]\n",
      " [4 2 0 ... 0 1 1]\n",
      " [1 3 2 ... 0 1 2]\n",
      " ...\n",
      " [0 0 0 ... 1 0 0]\n",
      " [0 0 0 ... 0 0 0]\n",
      " [0 0 0 ... 0 0 0]]\n"
     ]
    },
    {
     "data": {
      "image/png": "[encoded data removed]",
      "text/plain": [
       "<matplotlib.figure.Figure at 0x7f53ea57b4a8>"
      ]
     },
     "metadata": {},
     "output_type": "display_data"
    }
   ],
   "source": [
    "import cv2\n",
    "imshow(X_full[0])\n",
    "plt.show()\n",
    "cv2.imwrite('test.png', X_full[0])\n",
    "A = cv2.imread('test.png')\n",
    "print(A[:, :, 0])\n",
    "imshow(A[:, :, 0])\n",
    "plt.show()"
   ]
  },
  {
   "cell_type": "code",
   "execution_count": 67,
   "metadata": {},
   "outputs": [
    {
     "name": "stdout",
     "output_type": "stream",
     "text": [
      "[0 0 0 0 0 0 0 1 0 0]\n",
      "[28.  28.7 29.4 30.1 30.8 31.5 32.2 32.9 33.6 34.3 35. ]\n",
      "7\n"
     ]
    }
   ],
   "source": [
    "values = np.array([33])\n",
    "arr, bins = np.histogram(values, bins=10, range=[28,35])\n",
    "print(arr)\n",
    "print(bins)\n",
    "print(np.argmax(arr))"
   ]
  },
  {
   "cell_type": "code",
   "execution_count": 9,
   "metadata": {},
   "outputs": [
    {
     "name": "stdout",
     "output_type": "stream",
     "text": [
      "[0.579 0.579 0.579 0.579 0.579 0.579 0.579 0.579 0.579 0.579 0.579 0.579\n",
      " 0.579 0.579 0.579 0.579 0.579 0.579 0.579 0.579 0.579 0.579 0.579 0.579\n",
      " 0.579 0.579 0.579 0.579 0.579 0.579 0.579 0.579 0.579 0.579 0.579 0.579\n",
      " 0.579 0.579 0.579 0.579 0.579 0.579 0.579 0.579 0.579 0.579 0.579 0.579\n",
      " 0.579 0.579 0.579 0.579 0.579 0.579 0.579 0.579 0.579 0.579 0.579 0.579\n",
      " 0.579 0.579 0.579 0.579 0.579 0.579 0.579 0.579 0.579 0.579 0.579 0.579\n",
      " 0.579 0.579 0.579 0.579 0.579 0.579 0.579 0.579 0.579 0.579 0.579 0.579\n",
      " 0.579 0.579 0.579 0.579 0.579 0.579 0.579 0.579 0.579 0.579 0.579]\n"
     ]
    }
   ],
   "source": [
    "y_orig = np.load('Preprocessed_Data_28_28/y_train.npy')\n",
    "y_binned = np.load('Preprocessed_Data_28_28/y_binned_train.npy')\n",
    "\n",
    "print(y_orig[1:100, 0,0])"
   ]
  },
  {
   "cell_type": "code",
   "execution_count": 10,
   "metadata": {},
   "outputs": [
    {
     "name": "stdout",
     "output_type": "stream",
     "text": [
      "[7. 7. 7. 7. 7. 7. 7. 7. 7. 7. 7. 7. 7. 7. 7. 7. 7. 7. 7. 7. 7. 7. 7. 7.\n",
      " 7. 7. 7. 7. 7. 7. 7. 7. 7. 7. 7. 7. 7. 7. 7. 7. 7. 7. 7. 7. 7. 7. 7. 7.\n",
      " 7. 7. 7. 7. 7. 7. 7. 7. 7. 7. 7. 7. 7. 7. 7. 7. 7. 7. 7. 7. 7. 7. 7. 7.\n",
      " 7. 7. 7. 7. 7. 7. 7. 7. 7. 7. 7. 7. 7. 7. 7. 7. 7. 7. 7. 7. 7. 7. 7.]\n"
     ]
    }
   ],
   "source": [
    "print(y_binned[1:100, 0,0])"
   ]
  },
  {
   "cell_type": "code",
   "execution_count": 12,
   "metadata": {},
   "outputs": [
    {
     "name": "stdout",
     "output_type": "stream",
     "text": [
      "120\n"
     ]
    }
   ],
   "source": [
    "name = 'r_alpha'\n",
    "\n",
    "y_pred_prob = np.load(os.path.join('model_' + name, 'r_alpha_pred_proba.npy'))\n",
    "print(y_pred_prob.size)"
   ]
  },
  {
   "cell_type": "code",
   "execution_count": null,
   "metadata": {},
   "outputs": [],
   "source": []
  },
  {
   "cell_type": "code",
   "execution_count": null,
   "metadata": {},
   "outputs": [],
   "source": []
  }
 ],
 "metadata": {
  "kernelspec": {
   "display_name": "Python 3",
   "language": "python",
   "name": "python3"
  },
  "language_info": {
   "codemirror_mode": {
    "name": "ipython",
    "version": 3
   },
   "file_extension": ".py",
   "mimetype": "text/x-python",
   "name": "python",
   "nbconvert_exporter": "python",
   "pygments_lexer": "ipython3",
   "version": "3.6.3"
  }
 },
 "nbformat": 4,
 "nbformat_minor": 2
}
