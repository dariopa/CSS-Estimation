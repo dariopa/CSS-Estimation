{
 "cells": [
  {
   "cell_type": "code",
   "execution_count": 1,
   "metadata": {},
   "outputs": [],
   "source": [
    "import numpy as np\n",
    "from PIL import Image\n",
    "from matplotlib.pyplot import imshow\n",
    "import matplotlib.pyplot as plt\n",
    "import os\n",
    "import scipy.io as sio\n",
    "import scipy.misc\n",
    "import fnmatch\n",
    "import random\n",
    "import math\n",
    "import cv2\n",
    "from sklearn.utils import shuffle"
   ]
  },
  {
   "cell_type": "code",
   "execution_count": 2,
   "metadata": {},
   "outputs": [],
   "source": [
    "# Generate images?\n",
    "generate = True\n",
    "# Preprocess data?\n",
    "split = True\n",
    "\n",
    "call_folder = '/home/dario/Documents/SemThes_Local/Images_RAD/'\n",
    "\n",
    "\n",
    "store_folder = ''\n",
    "\n",
    "# FOR IMAGE GENERATION ----------------------\n",
    "# Batch size of images\n",
    "X_shape = 224\n",
    "Y_shape = 224\n",
    "\n",
    "# alpha = np.array([[0.501, 0.51, 0.52, 0.53, 0.54, 0.55, 0.56, 0.57, 0.58, 0.59, 0.599]])\n",
    "alpha = np.array([[0.501]])\n",
    "r_mean = 615\n",
    "g_mean = 530\n",
    "b_mean = 465\n",
    "sigma = 28\n",
    "\n",
    "# classes\n",
    "classes = 10\n",
    "\n",
    "# FOR PREPROCESSING ----------------------\n",
    "# How much data to use?\n",
    "use_data = 1.\n",
    "\n",
    "# Divison factor for Training, Validation and Test data [0,1]:\n",
    "Train_split = 8./10\n",
    "Val_split = 1./10\n",
    "Test_split = 1./10"
   ]
  },
  {
   "cell_type": "code",
   "execution_count": 3,
   "metadata": {},
   "outputs": [
    {
     "name": "stdout",
     "output_type": "stream",
     "text": [
      "Evaluating Image 1\n",
      "Done!\n"
     ]
    },
    {
     "name": "stderr",
     "output_type": "stream",
     "text": [
      "/home/dario/miniconda3/lib/python3.6/site-packages/ipykernel_launcher.py:42: DeprecationWarning: `toimage` is deprecated!\n",
      "`toimage` is deprecated in SciPy 1.0.0, and will be removed in 1.2.0.\n",
      "Use Pillow's ``Image.fromarray`` directly instead.\n"
     ]
    }
   ],
   "source": [
    "_, nr_param = alpha.shape\n",
    "nr_hyp_images = 1\n",
    "batch_counter = 1\n",
    "\n",
    "CSS_calc = np.full((3, 31), 0.)\n",
    "CSS = np.full((int(np.floor(1392/X_shape)) * int(np.floor(1300/Y_shape)) * nr_hyp_images * nr_param, 2), 0.)\n",
    "\n",
    "for i in range(0, nr_hyp_images):\n",
    "    print('Evaluating Image ' + str(i+1))\n",
    "    mat_contents = sio.loadmat(os.path.join(call_folder, 'RAD_' + str(i+1) + '.mat'))\n",
    "    rad =mat_contents['rad_new']\n",
    "\n",
    "    x_row, y_col, spect = rad.shape\n",
    "    X_window = int(np.floor(x_row / X_shape))\n",
    "    Y_window = int(np.floor(y_col / Y_shape))\n",
    "\n",
    "    rad = rad[0:X_window * X_shape, 0:Y_window * Y_shape, :]\n",
    "    x_row, y_col, spect = rad.shape\n",
    "    n_features = x_row * y_col\n",
    "\n",
    "    rad_reshaped = np.reshape(rad, (1, n_features, spect))[0]\n",
    "    rad_reshaped = np.swapaxes(rad_reshaped, 0, 1)\n",
    "\n",
    "    # Compute RGB image from Power Spectrum and CSS\n",
    "    for counter in range(0, nr_param):\n",
    "        q = 0\n",
    "        for i in range(401, 711, 10):\n",
    "            CSS_calc[0,q] = alpha[0, counter] * math.exp(-(i-r_mean) ** 2 / (2 * sigma ** 2))\n",
    "            CSS_calc[1,q] = alpha[0, counter] * math.exp(-(i-g_mean) ** 2 / (2 * sigma ** 2))\n",
    "            CSS_calc[2,q] = alpha[0, counter] * math.exp(-(i-b_mean) ** 2 / (2 * sigma ** 2))\n",
    "            q = q + 1\n",
    "\n",
    "        # I = [3 x m] || CSS_new = [3 x 33] || rad_reshaped = [33 x m]\n",
    "        I = np.matmul(CSS_calc, rad_reshaped) / 4095\n",
    "\n",
    "        I_image = np.reshape(I, (3, x_row, y_col))\n",
    "        I_image = np.swapaxes(I_image, 0, 1)\n",
    "        I_image = np.swapaxes(I_image, 1, 2)\n",
    "        I_image[I_image > 1] = 1\n",
    "\n",
    "        # Now store batches of Images\n",
    "        scipy.misc.toimage(I_image, cmin=0, cmax=1).save(os.path.join(store_folder, str(batch_counter) + '.jpg'))\n",
    "\n",
    "print('Done!')\n",
    "\n"
   ]
  },
  {
   "cell_type": "code",
   "execution_count": 4,
   "metadata": {},
   "outputs": [
    {
     "name": "stdout",
     "output_type": "stream",
     "text": [
      "[[[0.245588   0.23060621 0.21368638]\n",
      "  [0.38645873 0.33702269 0.30858411]\n",
      "  [0.35191289 0.31523688 0.29923018]\n",
      "  ...\n",
      "  [0.66106272 0.59139061 0.51676534]\n",
      "  [0.65989589 0.59359856 0.51884828]\n",
      "  [0.66271737 0.59222512 0.51811314]]\n",
      "\n",
      " [[0.24558116 0.23744195 0.21648025]\n",
      "  [0.30045435 0.28551381 0.31226106]\n",
      "  [0.29513633 0.2797777  0.30417641]\n",
      "  ...\n",
      "  [0.67551459 0.60264015 0.52281201]\n",
      "  [0.67806352 0.60379216 0.52365583]\n",
      "  [0.68116851 0.60482636 0.52483891]]\n",
      "\n",
      " [[0.24658255 0.23872793 0.2174391 ]\n",
      "  [0.29069708 0.29699377 0.33824093]\n",
      "  [0.28132905 0.28435299 0.32578379]\n",
      "  ...\n",
      "  [0.70454658 0.62027316 0.53240914]\n",
      "  [0.70423463 0.62281988 0.53354277]\n",
      "  [0.70972093 0.62346379 0.53374661]]\n",
      "\n",
      " ...\n",
      "\n",
      " [[0.22693758 0.21751106 0.19954304]\n",
      "  [0.23713898 0.23628966 0.19653312]\n",
      "  [0.22950362 0.22858966 0.19243216]\n",
      "  ...\n",
      "  [0.29645469 0.29494684 0.22059554]\n",
      "  [0.30039904 0.30037833 0.22193909]\n",
      "  [0.29566225 0.29840586 0.22123062]]\n",
      "\n",
      " [[0.22599375 0.21383926 0.19691006]\n",
      "  [0.23482367 0.23368523 0.19492184]\n",
      "  [0.22862275 0.22671129 0.1915742 ]\n",
      "  ...\n",
      "  [0.29454488 0.29336844 0.22346079]\n",
      "  [0.30034545 0.30010104 0.22598702]\n",
      "  [0.29553953 0.29718326 0.22355943]]\n",
      "\n",
      " [[0.22723066 0.21500133 0.19825869]\n",
      "  [0.23072365 0.22926782 0.19421973]\n",
      "  [0.221533   0.21820711 0.18983603]\n",
      "  ...\n",
      "  [0.27690422 0.2721533  0.21194357]\n",
      "  [0.28033792 0.27533426 0.2138528 ]\n",
      "  [0.27677674 0.27222032 0.21224177]]]\n"
     ]
    }
   ],
   "source": [
    "print(I_image) # original"
   ]
  },
  {
   "cell_type": "code",
   "execution_count": 5,
   "metadata": {
    "scrolled": true
   },
   "outputs": [
    {
     "name": "stdout",
     "output_type": "stream",
     "text": [
      "[[[ 61.  65.  64.]\n",
      "  [ 81.  85.  84.]\n",
      "  [ 83.  85.  84.]\n",
      "  ...\n",
      "  [171. 149. 135.]\n",
      "  [171. 149. 135.]\n",
      "  [171. 149. 135.]]\n",
      "\n",
      " [[ 51.  55.  56.]\n",
      "  [ 74.  78.  79.]\n",
      "  [ 72.  74.  73.]\n",
      "  ...\n",
      "  [173. 151. 137.]\n",
      "  [174. 152. 138.]\n",
      "  [174. 152. 138.]]\n",
      "\n",
      " [[ 54.  58.  59.]\n",
      "  [ 82.  86.  87.]\n",
      "  [ 69.  70.  72.]\n",
      "  ...\n",
      "  [179. 158. 139.]\n",
      "  [179. 158. 139.]\n",
      "  [179. 158. 139.]]\n",
      "\n",
      " ...\n",
      "\n",
      " [[ 59.  59.  49.]\n",
      "  [ 59.  59.  49.]\n",
      "  [ 59.  59.  51.]\n",
      "  ...\n",
      "  [ 72.  75.  58.]\n",
      "  [ 73.  76.  59.]\n",
      "  [ 72.  75.  58.]]\n",
      "\n",
      " [[ 57.  57.  47.]\n",
      "  [ 58.  58.  48.]\n",
      "  [ 57.  57.  49.]\n",
      "  ...\n",
      "  [ 71.  74.  57.]\n",
      "  [ 72.  75.  58.]\n",
      "  [ 71.  74.  57.]]\n",
      "\n",
      " [[ 56.  56.  46.]\n",
      "  [ 57.  57.  47.]\n",
      "  [ 57.  57.  49.]\n",
      "  ...\n",
      "  [ 71.  74.  57.]\n",
      "  [ 71.  74.  57.]\n",
      "  [ 70.  73.  56.]]]\n"
     ]
    }
   ],
   "source": [
    "img = np.array(Image.open('1.jpg'), dtype=np.float16)\n",
    "print(img)"
   ]
  },
  {
   "cell_type": "code",
   "execution_count": 6,
   "metadata": {},
   "outputs": [
    {
     "name": "stdout",
     "output_type": "stream",
     "text": [
      "Evaluating Image 1\n"
     ]
    },
    {
     "name": "stderr",
     "output_type": "stream",
     "text": [
      "/home/dario/miniconda3/lib/python3.6/site-packages/ipykernel_launcher.py:42: DeprecationWarning: `toimage` is deprecated!\n",
      "`toimage` is deprecated in SciPy 1.0.0, and will be removed in 1.2.0.\n",
      "Use Pillow's ``Image.fromarray`` directly instead.\n"
     ]
    },
    {
     "name": "stdout",
     "output_type": "stream",
     "text": [
      "Done!\n"
     ]
    }
   ],
   "source": [
    "_, nr_param = alpha.shape\n",
    "nr_hyp_images = 1\n",
    "batch_counter = 1\n",
    "\n",
    "CSS_calc = np.full((3, 31), 0.)\n",
    "CSS = np.full((int(np.floor(1392/X_shape)) * int(np.floor(1300/Y_shape)) * nr_hyp_images * nr_param, 2), 0.)\n",
    "\n",
    "for i in range(0, nr_hyp_images):\n",
    "    print('Evaluating Image ' + str(i+1))\n",
    "    mat_contents = sio.loadmat(os.path.join(call_folder, 'RAD_' + str(i+1) + '.mat'))\n",
    "    rad =mat_contents['rad_new']\n",
    "\n",
    "    x_row, y_col, spect = rad.shape\n",
    "    X_window = int(np.floor(x_row / X_shape))\n",
    "    Y_window = int(np.floor(y_col / Y_shape))\n",
    "\n",
    "    rad = rad[0:X_window * X_shape, 0:Y_window * Y_shape, :]\n",
    "    x_row, y_col, spect = rad.shape\n",
    "    n_features = x_row * y_col\n",
    "\n",
    "    rad_reshaped = np.reshape(rad, (1, n_features, spect))[0]\n",
    "    rad_reshaped = np.swapaxes(rad_reshaped, 0, 1)\n",
    "\n",
    "    # Compute RGB image from Power Spectrum and CSS\n",
    "    for counter in range(0, nr_param):\n",
    "        q = 0\n",
    "        for i in range(401, 711, 10):\n",
    "            CSS_calc[0,q] = alpha[0, counter] * math.exp(-(i-r_mean) ** 2 / (2 * sigma ** 2))\n",
    "            CSS_calc[1,q] = alpha[0, counter] * math.exp(-(i-g_mean) ** 2 / (2 * sigma ** 2))\n",
    "            CSS_calc[2,q] = alpha[0, counter] * math.exp(-(i-b_mean) ** 2 / (2 * sigma ** 2))\n",
    "            q = q + 1\n",
    "\n",
    "        # I = [3 x m] || CSS_new = [3 x 33] || rad_reshaped = [33 x m]\n",
    "        I = np.matmul(CSS_calc, rad_reshaped) / 4095\n",
    "\n",
    "        I_image = np.reshape(I, (3, x_row, y_col))\n",
    "        I_image = np.swapaxes(I_image, 0, 1)\n",
    "        I_image = np.swapaxes(I_image, 1, 2)\n",
    "        I_image[I_image > 1] = 1\n",
    "\n",
    "        # Now store batches of Images\n",
    "        scipy.misc.toimage(I_image, cmin=0, cmax=1).save(os.path.join(store_folder, str(batch_counter) + '.png'))\n",
    "\n",
    "print('Done!')"
   ]
  },
  {
   "cell_type": "code",
   "execution_count": 7,
   "metadata": {},
   "outputs": [
    {
     "name": "stdout",
     "output_type": "stream",
     "text": [
      "[[[ 61.  65.  64.]\n",
      "  [ 81.  85.  84.]\n",
      "  [ 83.  85.  84.]\n",
      "  ...\n",
      "  [171. 149. 135.]\n",
      "  [171. 149. 135.]\n",
      "  [171. 149. 135.]]\n",
      "\n",
      " [[ 51.  55.  56.]\n",
      "  [ 74.  78.  79.]\n",
      "  [ 72.  74.  73.]\n",
      "  ...\n",
      "  [173. 151. 137.]\n",
      "  [174. 152. 138.]\n",
      "  [174. 152. 138.]]\n",
      "\n",
      " [[ 54.  58.  59.]\n",
      "  [ 82.  86.  87.]\n",
      "  [ 69.  70.  72.]\n",
      "  ...\n",
      "  [179. 158. 139.]\n",
      "  [179. 158. 139.]\n",
      "  [179. 158. 139.]]\n",
      "\n",
      " ...\n",
      "\n",
      " [[ 59.  59.  49.]\n",
      "  [ 59.  59.  49.]\n",
      "  [ 59.  59.  51.]\n",
      "  ...\n",
      "  [ 72.  75.  58.]\n",
      "  [ 73.  76.  59.]\n",
      "  [ 72.  75.  58.]]\n",
      "\n",
      " [[ 57.  57.  47.]\n",
      "  [ 58.  58.  48.]\n",
      "  [ 57.  57.  49.]\n",
      "  ...\n",
      "  [ 71.  74.  57.]\n",
      "  [ 72.  75.  58.]\n",
      "  [ 71.  74.  57.]]\n",
      "\n",
      " [[ 56.  56.  46.]\n",
      "  [ 57.  57.  47.]\n",
      "  [ 57.  57.  49.]\n",
      "  ...\n",
      "  [ 71.  74.  57.]\n",
      "  [ 71.  74.  57.]\n",
      "  [ 70.  73.  56.]]]\n"
     ]
    }
   ],
   "source": [
    "import cv2\n",
    " \n",
    "filename = '1.png'\n",
    " \n",
    "image = cv2.imread(filename,0)\n",
    "print(img)"
   ]
  },
  {
   "cell_type": "code",
   "execution_count": null,
   "metadata": {},
   "outputs": [],
   "source": []
  },
  {
   "cell_type": "code",
   "execution_count": null,
   "metadata": {},
   "outputs": [],
   "source": []
  },
  {
   "cell_type": "code",
   "execution_count": null,
   "metadata": {},
   "outputs": [],
   "source": []
  },
  {
   "cell_type": "code",
   "execution_count": null,
   "metadata": {},
   "outputs": [],
   "source": []
  },
  {
   "cell_type": "code",
   "execution_count": null,
   "metadata": {},
   "outputs": [],
   "source": []
  }
 ],
 "metadata": {
  "kernelspec": {
   "display_name": "Python 3",
   "language": "python",
   "name": "python3"
  },
  "language_info": {
   "codemirror_mode": {
    "name": "ipython",
    "version": 3
   },
   "file_extension": ".py",
   "mimetype": "text/x-python",
   "name": "python",
   "nbconvert_exporter": "python",
   "pygments_lexer": "ipython3",
   "version": "3.6.3"
  }
 },
 "nbformat": 4,
 "nbformat_minor": 2
}
