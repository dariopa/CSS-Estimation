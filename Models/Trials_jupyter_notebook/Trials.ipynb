{
 "cells": [
  {
   "cell_type": "code",
   "execution_count": 14,
   "metadata": {},
   "outputs": [],
   "source": [
    "import numpy as np\n",
    "import os"
   ]
  },
  {
   "cell_type": "code",
   "execution_count": 15,
   "metadata": {},
   "outputs": [
    {
     "name": "stdout",
     "output_type": "stream",
     "text": [
      "1\n"
     ]
    }
   ],
   "source": [
    "# Name of analysed channel\n",
    "channel = 'green'\n",
    "\n",
    "if channel == 'red':\n",
    "    k = 0\n",
    "elif channel == 'green':\n",
    "    k = 1\n",
    "elif channel == 'blue':\n",
    "    k = 2\n",
    "else:\n",
    "    k = None\n",
    "print(k)"
   ]
  },
  {
   "cell_type": "code",
   "execution_count": 16,
   "metadata": {},
   "outputs": [
    {
     "name": "stdout",
     "output_type": "stream",
     "text": [
      "[1282.76067615 1272.21666205 1270.22197449 1268.24231434 1266.88719285\n",
      " 1266.02733433 1265.68343508 1264.84753835 1264.64057004 1264.59997368\n",
      " 1262.89466631 1261.47423506 1260.25997257 1255.66291916 1246.88518405\n",
      " 1233.53263652 1217.49973059 1201.3710053  1176.30126035 1153.10012519\n",
      " 1113.61535931 1076.73350334 1050.18017364 1029.83872795  997.81689298\n",
      "  953.23584044  939.6678732   920.40604359  897.1346944   860.54596341] \n",
      "\n",
      "[17.98901434 18.03478792 18.35520293 18.37046079 18.90448581 19.10283796\n",
      " 19.7741837  20.6438816  20.76594446 20.7506866  21.05584376 21.05584376\n",
      " 20.76594446 21.78822093 24.2599939  23.63442173 22.27647238 24.82453464\n",
      " 24.41257247 25.08391822 26.88434544 26.16722612 26.50289899 25.87732682\n",
      " 25.7400061  23.16142814 19.98779371 20.14037229 19.89624657 20.43027159] \n",
      "\n"
     ]
    }
   ],
   "source": [
    "path = '/home/dario/Desktop/SemThes/Models/Old_2018_03_15/model_r_alpha_10_classes_VGG16_224'\n",
    "loss = np.load(os.path.join(path, 'r_alpha_avg_loss_plot.npy'))\n",
    "\n",
    "print(loss, '\\n')\n",
    "\n",
    "acc = np.load(os.path.join(path, 'r_alpha_val_accuracy_plot.npy'))\n",
    "print(acc, '\\n')"
   ]
  },
  {
   "cell_type": "code",
   "execution_count": null,
   "metadata": {},
   "outputs": [],
   "source": []
  },
  {
   "cell_type": "code",
   "execution_count": null,
   "metadata": {},
   "outputs": [],
   "source": []
  },
  {
   "cell_type": "code",
   "execution_count": null,
   "metadata": {},
   "outputs": [],
   "source": []
  },
  {
   "cell_type": "code",
   "execution_count": null,
   "metadata": {},
   "outputs": [],
   "source": []
  },
  {
   "cell_type": "code",
   "execution_count": null,
   "metadata": {},
   "outputs": [],
   "source": []
  },
  {
   "cell_type": "code",
   "execution_count": null,
   "metadata": {},
   "outputs": [],
   "source": []
  }
 ],
 "metadata": {
  "kernelspec": {
   "display_name": "Python 3",
   "language": "python",
   "name": "python3"
  },
  "language_info": {
   "codemirror_mode": {
    "name": "ipython",
    "version": 3
   },
   "file_extension": ".py",
   "mimetype": "text/x-python",
   "name": "python",
   "nbconvert_exporter": "python",
   "pygments_lexer": "ipython3",
   "version": "3.6.3"
  }
 },
 "nbformat": 4,
 "nbformat_minor": 2
}
